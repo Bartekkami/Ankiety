{
 "cells": [
  {
   "cell_type": "code",
   "execution_count": 9,
   "metadata": {},
   "outputs": [
    {
     "name": "stdout",
     "output_type": "stream",
     "text": [
      "latacz\n"
     ]
    }
   ],
   "source": [
    "a = User.objects.get(pk=1)\n",
    "a.username = \"latacz\"\n",
    "a.save()\n",
    "print(a.username)\n"
   ]
  },
  {
   "cell_type": "code",
   "execution_count": 12,
   "metadata": {},
   "outputs": [
    {
     "name": "stdout",
     "output_type": "stream",
     "text": [
      "Pawel\n",
      "pbkdf2_sha256$100000$hR8ayiRhzPCw$Jvy9Ue9EUuEXXaT81LW0k9+m+zt67wAolTQqle2doNE=\n"
     ]
    }
   ],
   "source": [
    "b = User.objects.get(pk=2)\n",
    "b.username = \"Pawel\"\n",
    "b.set_password('123')\n",
    "b.save()\n",
    "print(b.username)\n",
    "print(b.password)"
   ]
  },
  {
   "cell_type": "code",
   "execution_count": null,
   "metadata": {},
   "outputs": [],
   "source": []
  }
 ],
 "metadata": {
  "kernelspec": {
   "display_name": "Django Shell-Plus",
   "language": "python",
   "name": "django_extensions"
  },
  "language_info": {
   "codemirror_mode": {
    "name": "ipython",
    "version": 3
   },
   "file_extension": ".py",
   "mimetype": "text/x-python",
   "name": "python",
   "nbconvert_exporter": "python",
   "pygments_lexer": "ipython3",
   "version": "3.6.4"
  }
 },
 "nbformat": 4,
 "nbformat_minor": 2
}
